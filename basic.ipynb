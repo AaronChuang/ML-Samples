{
 "cells": [
  {
   "cell_type": "code",
   "execution_count": 47,
   "metadata": {
    "collapsed": true,
    "pycharm": {
     "name": "#%%\n"
    }
   },
   "outputs": [
    {
     "name": "stdout",
     "output_type": "stream",
     "text": [
      "a type: <class 'numpy.ndarray'>\n",
      "a: [1 2 3]\n",
      "a記憶體位置: <memory at 0x119838460>\n",
      "a 裡頭元素的型別: int64\n",
      "a * 3: [3 6 9]\n",
      "a + 2: [3 4 5]\n",
      "python list: [1, 2, 3]\n",
      "python list * 3: [1, 2, 3, 1, 2, 3, 1, 2, 3]\n",
      "陣列運算 a + b: [3 4 3]\n",
      "陣列運算 a / b: [0.5 1.  inf]\n",
      "陣列運算 a * b: [2 4 0]\n",
      "產生0-9的數值: [0 1 2 3 4 5 6 7 8 9]\n",
      "arange(初始索引, 終點索引, 間距): [0 2 4 6 8]\n",
      "將0~10之間分成14等分(15個數字): [ 0.          0.71428571  1.42857143  2.14285714  2.85714286  3.57142857\n",
      "  4.28571429  5.          5.71428571  6.42857143  7.14285714  7.85714286\n",
      "  8.57142857  9.28571429 10.        ]\n",
      "反向取出: [9 8 7 6 5 4 3 2 1 0]\n",
      "取索引0-2: [0 1 2]\n",
      "取索引4-最後一個: [4 5 6 7 8 9]\n",
      "每隔1個取出元素: [0 2 4 6 8]\n",
      "取出全部範圍: [0 1 2 3 4 5 6 7 8 9]\n",
      "建立 4 * 5維的 2D陣列 [[ 0  1  2  3  4]\n",
      " [ 5  6  7  8  9]\n",
      " [10 11 12 13 14]\n",
      " [15 16 17 18 19]]\n",
      "切出1-2列與2-3行間的 2D陣列 [[1 2 3 4]\n",
      " [6 7 8 9]]\n",
      "snarray[::2, :]: [[ 0  1  2  3  4]\n",
      " [10 11 12 13 14]]\n",
      "snarray[:, ::2]: [[ 0  2  4]\n",
      " [ 5  7  9]\n",
      " [10 12 14]\n",
      " [15 17 19]]\n",
      "snarray[:, ::-1]: [[ 4  3  2  1  0]\n",
      " [ 9  8  7  6  5]\n",
      " [14 13 12 11 10]\n",
      " [19 18 17 16 15]]\n",
      "c: [[1 2 3]\n",
      " [4 5 6]]\n",
      "顯示c各維的元素數量: (2, 3)\n",
      "查詢c軸數: 2\n",
      "將c陣列轉置: [[1 4]\n",
      " [2 5]\n",
      " [3 6]]\n",
      "d: [[[ 1  2  3]\n",
      "  [ 4  5  6]\n",
      "  [ 7  8  9]\n",
      "  [10 11 12]]\n",
      "\n",
      " [[13 14 15]\n",
      "  [16 17 18]\n",
      "  [19 20 21]\n",
      "  [22 23 24]]]\n",
      "顯示d各維的元素數量: (2, 4, 3)\n",
      "改變c形狀 3, 2: [[1 2]\n",
      " [3 4]\n",
      " [5 6]]\n",
      "改變c形狀 6, 1: [[1]\n",
      " [2]\n",
      " [3]\n",
      " [4]\n",
      " [5]\n",
      " [6]]\n"
     ]
    },
    {
     "name": "stderr",
     "output_type": "stream",
     "text": [
      "/usr/local/lib/python3.7/site-packages/ipykernel_launcher.py:16: RuntimeWarning: divide by zero encountered in true_divide\n",
      "  app.launch_new_instance()\n"
     ]
    }
   ],
   "source": [
    "import numpy as np\n",
    "\n",
    "a = np.array([1, 2, 3])\n",
    "print(\"a type:\", type(a)) # 確認型別\n",
    "print(\"a:\", a)\n",
    "print(\"a記憶體位置:\", a.data) # 查看記憶體位置\n",
    "print(\"a 裡頭元素的型別:\", a.dtype)\n",
    "print(\"a * 3:\", a * 3)\n",
    "print(\"a + 2:\", a + 2)\n",
    "# python list\n",
    "python_list = [1 ,2, 3]\n",
    "print(\"python list:\",python_list)\n",
    "print(\"python list * 3:\", python_list * 3)\n",
    "b = np.array([2, 2, 0])\n",
    "print(\"陣列運算 a + b:\", a + b)\n",
    "print(\"陣列運算 a / b:\", a / b)\n",
    "print(\"陣列運算 a * b:\", a * b)\n",
    "ar = np.arange(10)\n",
    "print(\"產生0-9的數值:\", ar)\n",
    "print(\"arange(初始索引, 終點索引, 間距):\", np.arange(0, 10, 2))\n",
    "print(\"將0~10之間分成14等分(15個數字):\", np.linspace(0, 10, 15))\n",
    "print(\"反向取出:\", ar[::-1])\n",
    "print(\"取索引0-2:\", ar[:3])\n",
    "print(\"取索引4-最後一個:\", ar[4:])\n",
    "print(\"每隔1個取出元素:\", ar[::2])\n",
    "print(\"取出全部範圍:\", ar[:])\n",
    "snarray = np.arange(20).reshape(4, 5)\n",
    "print(\"建立 4 * 5維的 2D陣列\",snarray)\n",
    "print(\"切出1-2列與2-3行間的 2D陣列\",snarray[:2, 1:])\n",
    "print(\"snarray[::2, :]:\",snarray[::2, :])\n",
    "print(\"snarray[:, ::2]:\",snarray[:, ::2])\n",
    "print(\"snarray[:, ::-1]:\",snarray[:, ::-1])\n",
    "# 建立二維陣列\n",
    "c = np.array([[1, 2, 3], [4, 5, 6]])\n",
    "print(\"c:\", c)\n",
    "# shape 是 ndarray 的屬性, 用顯示各維的元素數量\n",
    "print(\"顯示c各維的元素數量:\", c.shape)\n",
    "print(\"查詢c軸數:\", c.ndim) # 查詢軸數\n",
    "print(\"將c陣列轉置:\", c.T) # 將c陣列轉置\n",
    "# 建立三維陣列\n",
    "d = np.array([[[1, 2, 3], [4, 5, 6], [7, 8, 9], [10, 11, 12]],\n",
    "              [[13, 14, 15], [16, 17, 18], [19, 20, 21], [22, 23, 24]]])\n",
    "print(\"d:\", d)\n",
    "print(\"顯示d各維的元素數量:\",d.shape)\n",
    "# reshape 改變其形狀\n",
    "print(\"改變c形狀 3, 2:\", c.reshape(3, 2))\n",
    "print(\"改變c形狀 6, 1:\", c.reshape(6, 1))"
   ]
  },
  {
   "cell_type": "code",
   "execution_count": 30,
   "outputs": [
    {
     "name": "stdout",
     "output_type": "stream",
     "text": [
      "Using Numpy\t 0.059908 sec\n",
      "Not using Numpy\t 10.945217 sec\n"
     ]
    }
   ],
   "source": [
    "import time # 匯入計算時間的time模組\n",
    "\n",
    "def calculate_time():\n",
    "    a = np.random.randn(100000) # a 用 numpy 運算\n",
    "    b = list(a) # 將ndarray 轉為list,  b 用傳統python 運算\n",
    "    start_time = time.time()\n",
    "    for _ in range(1000):\n",
    "        sum_1 = np.sum(a)\n",
    "    print(\"Using Numpy\\t %f sec\" % (time.time() - start_time))\n",
    "    start_time = time.time()\n",
    "    for _ in range(1000):\n",
    "        sum_2 = sum(b)\n",
    "    print(\"Not using Numpy\\t %f sec\" % (time.time() - start_time))\n",
    "\n",
    "calculate_time()"
   ],
   "metadata": {
    "collapsed": false,
    "pycharm": {
     "name": "#%% 比較numpy 跟 一般python 的運算數度\n"
    }
   }
  },
  {
   "cell_type": "code",
   "execution_count": 49,
   "outputs": [
    {
     "name": "stdout",
     "output_type": "stream",
     "text": [
      "b shape: (2, 3, 2)\n",
      "b: [[[0 1]\n",
      "  [2 3]\n",
      "  [4 5]]\n",
      "\n",
      " [[0 1]\n",
      "  [2 3]\n",
      "  [4 5]]]\n",
      "b sum axis 0: [[ 0  2]\n",
      " [ 4  6]\n",
      " [ 8 10]]\n",
      "b sum axis 1: [[6 9]\n",
      " [6 9]]\n",
      "b sum axis 2: [[1 5 9]\n",
      " [1 5 9]]\n",
      "c: [ 0  1  2  3  4  5  6  7  8  9 10 11]\n",
      "c reshape 3,4 => d: [[ 0  1  2  3]\n",
      " [ 4  5  6  7]\n",
      " [ 8  9 10 11]]\n",
      "[[ 0  0  2  3]\n",
      " [ 4  5  6  7]\n",
      " [ 8  9 10 11]]\n",
      "[ 0  0  2  3  4  5  6  7  8  9 10 11]\n"
     ]
    }
   ],
   "source": [
    "a = np.array([[0, 1], [2, 3], [4, 5]])\n",
    "b = np.array([a, a])\n",
    "print(\"b shape:\", b.shape)\n",
    "print(\"b:\", b)\n",
    "print(\"b sum axis 0:\", b.sum(axis=0))\n",
    "print(\"b sum axis 1:\", b.sum(axis=1))\n",
    "print(\"b sum axis 2:\", b.sum(axis=2))\n",
    "c = np.arange(12)\n",
    "print(\"c:\",c)\n",
    "d = np.reshape(c, (3, 4))\n",
    "print(\"c reshape 3,4 => d:\",d)\n",
    "d[0, 1] = 0\n",
    "print(d)\n",
    "print(c)"
   ],
   "metadata": {
    "collapsed": false,
    "pycharm": {
     "name": "#%%\n"
    }
   }
  }
 ],
 "metadata": {
  "kernelspec": {
   "display_name": "Python 3",
   "language": "python",
   "name": "python3"
  },
  "language_info": {
   "codemirror_mode": {
    "name": "ipython",
    "version": 2
   },
   "file_extension": ".py",
   "mimetype": "text/x-python",
   "name": "python",
   "nbconvert_exporter": "python",
   "pygments_lexer": "ipython2",
   "version": "2.7.6"
  }
 },
 "nbformat": 4,
 "nbformat_minor": 0
}